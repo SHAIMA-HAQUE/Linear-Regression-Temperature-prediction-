{
  "nbformat": 4,
  "nbformat_minor": 0,
  "metadata": {
    "colab": {
      "name": "Linear-Regression Assignment - 1.ipynb",
      "provenance": [],
      "authorship_tag": "ABX9TyNe4N8Z6pEJfB2qHtHLLt8G",
      "include_colab_link": true
    },
    "kernelspec": {
      "name": "python3",
      "display_name": "Python 3"
    },
    "language_info": {
      "name": "python"
    }
  },
  "cells": [
    {
      "cell_type": "markdown",
      "metadata": {
        "id": "view-in-github",
        "colab_type": "text"
      },
      "source": [
        "<a href=\"https://colab.research.google.com/github/SHAIMA-HAQUE/Linear-Regression-Temperature-prediction-/blob/main/Linear_Regression_Assignment_1.ipynb\" target=\"_parent\"><img src=\"https://colab.research.google.com/assets/colab-badge.svg\" alt=\"Open In Colab\"/></a>"
      ]
    },
    {
      "cell_type": "markdown",
      "metadata": {
        "id": "0TilTEDVjD95"
      },
      "source": [
        "# ***Import Libraries***"
      ]
    },
    {
      "cell_type": "code",
      "metadata": {
        "id": "yGQpJkGujJmp"
      },
      "source": [
        "#import libraries\n",
        "import numpy as np\n",
        "import pandas as pd\n",
        "import matplotlib.pyplot as plt\n"
      ],
      "execution_count": 17,
      "outputs": []
    },
    {
      "cell_type": "markdown",
      "metadata": {
        "id": "YkRMf7o7qGw_"
      },
      "source": [
        "# ***Import Dataset***"
      ]
    },
    {
      "cell_type": "code",
      "metadata": {
        "colab": {
          "base_uri": "https://localhost:8080/"
        },
        "id": "A_sld2tOqJkJ",
        "outputId": "5c0e6b87-2533-4b98-f379-34af661ced31"
      },
      "source": [
        "#import dataset\n",
        "dataset = pd.read_csv('Summary of Weather - Min and Max temperature.csv')\n",
        "print(dataset)\n"
      ],
      "execution_count": 18,
      "outputs": [
        {
          "output_type": "stream",
          "text": [
            "          MaxTemp    MinTemp\n",
            "0       25.555556  22.222222\n",
            "1       28.888889  21.666667\n",
            "2       26.111111  22.222222\n",
            "3       26.666667  22.222222\n",
            "4       26.666667  21.666667\n",
            "...           ...        ...\n",
            "119035  28.333333  18.333333\n",
            "119036  29.444444  18.333333\n",
            "119037  28.333333  18.333333\n",
            "119038  28.333333  18.333333\n",
            "119039  29.444444  17.222222\n",
            "\n",
            "[119040 rows x 2 columns]\n"
          ],
          "name": "stdout"
        }
      ]
    },
    {
      "cell_type": "code",
      "metadata": {
        "colab": {
          "base_uri": "https://localhost:8080/"
        },
        "id": "roa67ZR2rgbJ",
        "outputId": "84eef3af-dcad-4c52-84f7-56a5f5b7192f"
      },
      "source": [
        "X = dataset.iloc[:,:-1].values\n",
        "Y = dataset.iloc[:,-1].values\n",
        "\n",
        "print(X)\n",
        "print(Y)"
      ],
      "execution_count": 19,
      "outputs": [
        {
          "output_type": "stream",
          "text": [
            "[[25.55555556]\n",
            " [28.88888889]\n",
            " [26.11111111]\n",
            " ...\n",
            " [28.33333333]\n",
            " [28.33333333]\n",
            " [29.44444444]]\n",
            "[22.22222222 21.66666667 22.22222222 ... 18.33333333 18.33333333\n",
            " 17.22222222]\n"
          ],
          "name": "stdout"
        }
      ]
    },
    {
      "cell_type": "markdown",
      "metadata": {
        "id": "8kxu629jr7Zb"
      },
      "source": [
        "# ***Plot the Dataset***"
      ]
    },
    {
      "cell_type": "code",
      "metadata": {
        "colab": {
          "base_uri": "https://localhost:8080/",
          "height": 313
        },
        "id": "sJc0uuU2r6OQ",
        "outputId": "c5b514ea-941b-4b41-e10b-6fd3d6fe96bb"
      },
      "source": [
        "plt.xlabel('Max Temperature')\n",
        "plt.ylabel('Min Temperature')\n",
        "plt.title('Maximum and Minimum Temperature')\n",
        "plt.scatter(X,Y,color='red',marker='+')"
      ],
      "execution_count": 20,
      "outputs": [
        {
          "output_type": "execute_result",
          "data": {
            "text/plain": [
              "<matplotlib.collections.PathCollection at 0x7f4e2568c790>"
            ]
          },
          "metadata": {
            "tags": []
          },
          "execution_count": 20
        },
        {
          "output_type": "display_data",
          "data": {
            "image/png": "[encoded data removed]",
            "text/plain": [
              "<Figure size 432x288 with 1 Axes>"
            ]
          },
          "metadata": {
            "tags": [],
            "needs_background": "light"
          }
        }
      ]
    },
    {
      "cell_type": "markdown",
      "metadata": {
        "id": "PWGCycn_sdsl"
      },
      "source": [
        "# ***Split the Data***"
      ]
    },
    {
      "cell_type": "code",
      "metadata": {
        "colab": {
          "base_uri": "https://localhost:8080/"
        },
        "id": "oPP-oodmsnOt",
        "outputId": "4e80e9b4-f396-4d53-b73f-01e8455726d1"
      },
      "source": [
        "#Split the data\n",
        "from sklearn.model_selection import train_test_split\n",
        "X_train, X_test, Y_train, Y_test = train_test_split(X,Y, test_size=0.15)\n",
        "print(X_train.shape, X_test.shape)"
      ],
      "execution_count": 30,
      "outputs": [
        {
          "output_type": "stream",
          "text": [
            "(101184, 1) (17856, 1)\n"
          ],
          "name": "stdout"
        }
      ]
    },
    {
      "cell_type": "markdown",
      "metadata": {
        "id": "w1MI8-kZstUU"
      },
      "source": [
        "# ***Fitting Simple Linear Regression***"
      ]
    },
    {
      "cell_type": "code",
      "metadata": {
        "colab": {
          "base_uri": "https://localhost:8080/"
        },
        "id": "l6kboXxqszTp",
        "outputId": "33e3ee0b-05e6-4693-caf7-78057975fb17"
      },
      "source": [
        "#Fitting Simple Linear Regression\n",
        "from sklearn.linear_model import LinearRegression\n",
        "model = LinearRegression()\n",
        "model.fit(X_train, Y_train)"
      ],
      "execution_count": 31,
      "outputs": [
        {
          "output_type": "execute_result",
          "data": {
            "text/plain": [
              "LinearRegression(copy_X=True, fit_intercept=True, n_jobs=None, normalize=False)"
            ]
          },
          "metadata": {
            "tags": []
          },
          "execution_count": 31
        }
      ]
    },
    {
      "cell_type": "markdown",
      "metadata": {
        "id": "EU0pjWY_s23V"
      },
      "source": [
        "# ***Predicting test results***"
      ]
    },
    {
      "cell_type": "code",
      "metadata": {
        "colab": {
          "base_uri": "https://localhost:8080/"
        },
        "id": "drlFP7m-s9j5",
        "outputId": "ea859650-7f73-458f-da51-7cf777bd55ad"
      },
      "source": [
        "#Predicting the test results\n",
        "Y_pred = model.predict(X_test)\n",
        "print(Y_pred)\n",
        "print(Y_train)"
      ],
      "execution_count": 32,
      "outputs": [
        {
          "output_type": "stream",
          "text": [
            "[17.00190406 19.80442718 28.67908376 ... 23.54112469 17.00190406\n",
            " 25.87656063]\n",
            "[20.          0.55555556 13.33333333 ... 20.         23.33333333\n",
            " 13.88888889]\n"
          ],
          "name": "stdout"
        }
      ]
    },
    {
      "cell_type": "markdown",
      "metadata": {
        "id": "Lw75mBZotA4F"
      },
      "source": [
        "# ***Calculate Accuracy***"
      ]
    },
    {
      "cell_type": "code",
      "metadata": {
        "colab": {
          "base_uri": "https://localhost:8080/"
        },
        "id": "jf8t2BoPtHD7",
        "outputId": "835c6bcf-db6d-4aaf-a7d9-791b9367fc65"
      },
      "source": [
        "#Calculate Accuracy\n",
        "accuracy = model.score(X_test,Y_test)\n",
        "print(accuracy)"
      ],
      "execution_count": 33,
      "outputs": [
        {
          "output_type": "stream",
          "text": [
            "0.7735502837816228\n"
          ],
          "name": "stdout"
        }
      ]
    },
    {
      "cell_type": "code",
      "metadata": {
        "colab": {
          "base_uri": "https://localhost:8080/"
        },
        "id": "sxHg_V48x7mT",
        "outputId": "3ceb76e1-c86d-47a3-ae58-54160f43ba6a"
      },
      "source": [
        "from sklearn.metrics import mean_squared_error\n",
        "mean_squared_error(Y_test, Y_pred)"
      ],
      "execution_count": 29,
      "outputs": [
        {
          "output_type": "execute_result",
          "data": {
            "text/plain": [
              "15.866354013013277"
            ]
          },
          "metadata": {
            "tags": []
          },
          "execution_count": 29
        }
      ]
    },
    {
      "cell_type": "markdown",
      "metadata": {
        "id": "hWKKi6GOtLOp"
      },
      "source": [
        "# ***Plot the Regressor Curve***"
      ]
    },
    {
      "cell_type": "code",
      "metadata": {
        "colab": {
          "base_uri": "https://localhost:8080/",
          "height": 573
        },
        "id": "3vrueZnRtSin",
        "outputId": "ca70d5e5-a007-4c2f-b11d-d7d5356953ac"
      },
      "source": [
        "plt.scatter(X_train,Y_train,color='red',marker='+')\n",
        "plt.xlabel('Max Temperature')\n",
        "plt.ylabel('Min Temperature')\n",
        "plt.title('Max Temperature VS Min Temperature (Training Set)')\n",
        "plt.plot(X_train, model.predict(X_train), color='blue')\n",
        "plt.show()\n",
        "\n",
        "plt.scatter(X_test,Y_test,color='red',marker='+')\n",
        "plt.xlabel('Max Temperature')\n",
        "plt.ylabel('Min Temperature')\n",
        "plt.title('Max Temperature VS Min Temperature (Test Set)')\n",
        "plt.plot(X_test, model.predict(X_test), color='blue')\n",
        "plt.show()"
      ],
      "execution_count": 34,
      "outputs": [
        {
          "output_type": "display_data",
          "data": {
            "image/png": "[encoded data removed]",
            "text/plain": [
              "<Figure size 432x288 with 1 Axes>"
            ]
          },
          "metadata": {
            "tags": [],
            "needs_background": "light"
          }
        },
        {
          "output_type": "display_data",
          "data": {
            "image/png": "[encoded data removed]",
            "text/plain": [
              "<Figure size 432x288 with 1 Axes>"
            ]
          },
          "metadata": {
            "tags": [],
            "needs_background": "light"
          }
        }
      ]
    },
    {
      "cell_type": "markdown",
      "metadata": {
        "id": "SGfpmooOtVAs"
      },
      "source": [
        "# ***Predict on External data***"
      ]
    },
    {
      "cell_type": "code",
      "metadata": {
        "colab": {
          "base_uri": "https://localhost:8080/"
        },
        "id": "xtYjvOjQtalA",
        "outputId": "919f554a-22e7-4205-dc00-d7452915cd68"
      },
      "source": [
        "test_data = np.array([[27]])\n",
        "test_pred = model.predict(test_data)\n",
        "print(test_pred)"
      ],
      "execution_count": 35,
      "outputs": [
        {
          "output_type": "stream",
          "text": [
            "[17.74924356]\n"
          ],
          "name": "stdout"
        }
      ]
    },
    {
      "cell_type": "markdown",
      "metadata": {
        "id": "wSM5D3V8t-S4"
      },
      "source": [
        "# ***Collect Data from the User***"
      ]
    },
    {
      "cell_type": "code",
      "metadata": {
        "colab": {
          "base_uri": "https://localhost:8080/"
        },
        "id": "AHxMOtvJuCTq",
        "outputId": "fb02fc75-1d14-45a2-e72a-18e6160e7f79"
      },
      "source": [
        "max_temp = float(input(\"What is the Maximum Temperature on that day?\"))\n",
        "min_temp = model.predict(np.array([[max_temp]]))\n",
        "print(\"Estimated Minimum Temperature for the Maximum Temperature of \"+str(max_temp)+\" during the period of 1940 to 1945 is \"+str(min_temp[0]))"
      ],
      "execution_count": 36,
      "outputs": [
        {
          "output_type": "stream",
          "text": [
            "What is the Maximum Temperature on that day?30\n",
            "Estimated Minimum Temperature for the Maximum Temperature of 30.0 during the period of 1940 to 1945 is 20.27151437630245\n"
          ],
          "name": "stdout"
        }
      ]
    }
  ]
}